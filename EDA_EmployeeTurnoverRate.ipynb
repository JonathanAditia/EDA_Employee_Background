{
 "cells": [
  {
   "cell_type": "code",
   "execution_count": 2,
   "metadata": {},
   "outputs": [],
   "source": [
    "#Define Bussiness Problem\n",
    "memitigasi resiko tingginya turnover karyawan dengan menyeleksi berdasarkan beberapa faktor\n",
    "\n",
    "#goals\n",
    "mencari faktor-faktor yang berkorelasi dengan tingginya turnover rate karyawan\n",
    "\n",
    "#analisa deskriptif\n",
    "tidak ada missing value\n",
    "\n",
    "#insight\n",
    "Current Attrition Rate Perusahaan berada di kisaran 16.12%.\n",
    "\n",
    "Semakin tinggi usia, semakin rendah attrition rate.\n",
    "Tidak terlalu berpengaruh thd performa.\n",
    "\n",
    "Attrition rate karyawan dengan status cerai paling rendah, dikisaran 10.09%.\n",
    "Attrition rate karyawan dengan status menikah dikisaran 12.48%.\n",
    "Attrition rate karyawan dengan status single paling tinggi dikisaran 25.5%.\n",
    "\n",
    "Tempat tinggal karyawan cukup berpengaruh thd attrition rate, jarak rata-rata tempat tinggal:\n",
    "8.91 utk yg tidak resign, 10.63 utk karyawan yg resign.\n",
    "\n",
    "Tingkat pendidikan hanya sedikit pengaruhnya terhadap attrition rate:\n",
    "2.92 utk yg tidak resign, 2.83 utk karyawan yg resign.\n",
    "\n",
    "Kepuasan hubungan hanya sedikit pengaruhnya terhadap attrition rate:\n",
    "Rata-rata karyawan yang tidak resign, memiliki skor hubungan 2.73, dan untuk yg resign 2.59%\n",
    "\n",
    "Kepemilikan stock option menjadi faktor yg cukup tinggi dalam menentukan attrition rate. \n",
    "0.84 poin untuk karyawan yang tidak resign, dan 0.52 poin untuk karyawan yang resign\n",
    "\n",
    "Pengalaman kerja karyawan menjadi faktor yg cukup tinggi dalam menentukan attrition rate.\n",
    "11.8 tahun utk karyawan yg tidak resign, 8.2 tahun utk karyawan yg resign\n",
    "\n",
    "Karyawan dengan worklife-balance yang lebih tinggi, cenderung memiliki attrition rate yg lebih rendah.\n",
    "2.78 poin utk karyawan yang tidak resign, 2.65 poin utk karyawan yg resign\n",
    "\n",
    "Hampir semua faktor diatas, pengaruhnya tidak signifikan terhadap performa kerja\n",
    "\n",
    "\n",
    "#kesimpulan\n",
    "Untuk menekan attrition rate:\n",
    "Lebih baik memilih karyawan dengan latar belakang:\n",
    "    Usia yg tidak terlalu muda\n",
    "    Statusnya bukan single\n",
    "    Bertempat tinggal dekat\n",
    "    Kepuasan hubungan yang bagus\n",
    "    Lebih berpendidikan\n",
    "    Berencana memiliki stock option\n",
    "    Pengalaman kerja yg tinggi\n",
    "    Tingkat work-life-balance yang tinggi"
   ]
  },
  {
   "cell_type": "code",
   "execution_count": 1,
   "metadata": {},
   "outputs": [],
   "source": [
    "import pandas as pd\n",
    "import numpy as np\n",
    "import matplotlib\n",
    "import matplotlib.pyplot as plt\n",
    "import seaborn as sns\n",
    "\n",
    "%matplotlib inline\n",
    "olddata = pd.read_csv('employee.csv')"
   ]
  },
  {
   "cell_type": "code",
   "execution_count": 3,
   "metadata": {},
   "outputs": [],
   "source": [
    "data = olddata[['Age','Attrition','DistanceFromHome','Education','MaritalStatus','PerformanceRating','RelationshipSatisfaction','StockOptionLevel','TotalWorkingYears','WorkLifeBalance','YearsAtCompany']]"
   ]
  },
  {
   "cell_type": "code",
   "execution_count": 4,
   "metadata": {},
   "outputs": [
    {
     "data": {
      "text/html": [
       "<div>\n",
       "<style scoped>\n",
       "    .dataframe tbody tr th:only-of-type {\n",
       "        vertical-align: middle;\n",
       "    }\n",
       "\n",
       "    .dataframe tbody tr th {\n",
       "        vertical-align: top;\n",
       "    }\n",
       "\n",
       "    .dataframe thead th {\n",
       "        text-align: right;\n",
       "    }\n",
       "</style>\n",
       "<table border=\"1\" class=\"dataframe\">\n",
       "  <thead>\n",
       "    <tr style=\"text-align: right;\">\n",
       "      <th></th>\n",
       "      <th>Age</th>\n",
       "      <th>Attrition</th>\n",
       "      <th>Department</th>\n",
       "      <th>DistanceFromHome</th>\n",
       "      <th>Education</th>\n",
       "      <th>EducationField</th>\n",
       "      <th>Gender</th>\n",
       "      <th>MaritalStatus</th>\n",
       "      <th>PerformanceRating</th>\n",
       "      <th>RelationshipSatisfaction</th>\n",
       "      <th>StockOptionLevel</th>\n",
       "      <th>TotalWorkingYears</th>\n",
       "      <th>WorkLifeBalance</th>\n",
       "      <th>YearsAtCompany</th>\n",
       "    </tr>\n",
       "  </thead>\n",
       "  <tbody>\n",
       "    <tr>\n",
       "      <th>0</th>\n",
       "      <td>41</td>\n",
       "      <td>Yes</td>\n",
       "      <td>Sales</td>\n",
       "      <td>1</td>\n",
       "      <td>2</td>\n",
       "      <td>Life Sciences</td>\n",
       "      <td>Female</td>\n",
       "      <td>Single</td>\n",
       "      <td>3</td>\n",
       "      <td>1</td>\n",
       "      <td>0</td>\n",
       "      <td>8</td>\n",
       "      <td>1</td>\n",
       "      <td>6</td>\n",
       "    </tr>\n",
       "    <tr>\n",
       "      <th>1</th>\n",
       "      <td>49</td>\n",
       "      <td>No</td>\n",
       "      <td>Research &amp; Development</td>\n",
       "      <td>8</td>\n",
       "      <td>1</td>\n",
       "      <td>Life Sciences</td>\n",
       "      <td>Male</td>\n",
       "      <td>Married</td>\n",
       "      <td>4</td>\n",
       "      <td>4</td>\n",
       "      <td>1</td>\n",
       "      <td>10</td>\n",
       "      <td>3</td>\n",
       "      <td>10</td>\n",
       "    </tr>\n",
       "    <tr>\n",
       "      <th>2</th>\n",
       "      <td>37</td>\n",
       "      <td>Yes</td>\n",
       "      <td>Research &amp; Development</td>\n",
       "      <td>2</td>\n",
       "      <td>2</td>\n",
       "      <td>Other</td>\n",
       "      <td>Male</td>\n",
       "      <td>Single</td>\n",
       "      <td>3</td>\n",
       "      <td>2</td>\n",
       "      <td>0</td>\n",
       "      <td>7</td>\n",
       "      <td>3</td>\n",
       "      <td>0</td>\n",
       "    </tr>\n",
       "    <tr>\n",
       "      <th>3</th>\n",
       "      <td>33</td>\n",
       "      <td>No</td>\n",
       "      <td>Research &amp; Development</td>\n",
       "      <td>3</td>\n",
       "      <td>4</td>\n",
       "      <td>Life Sciences</td>\n",
       "      <td>Female</td>\n",
       "      <td>Married</td>\n",
       "      <td>3</td>\n",
       "      <td>3</td>\n",
       "      <td>0</td>\n",
       "      <td>8</td>\n",
       "      <td>3</td>\n",
       "      <td>8</td>\n",
       "    </tr>\n",
       "    <tr>\n",
       "      <th>4</th>\n",
       "      <td>27</td>\n",
       "      <td>No</td>\n",
       "      <td>Research &amp; Development</td>\n",
       "      <td>2</td>\n",
       "      <td>1</td>\n",
       "      <td>Medical</td>\n",
       "      <td>Male</td>\n",
       "      <td>Married</td>\n",
       "      <td>3</td>\n",
       "      <td>4</td>\n",
       "      <td>1</td>\n",
       "      <td>6</td>\n",
       "      <td>3</td>\n",
       "      <td>2</td>\n",
       "    </tr>\n",
       "    <tr>\n",
       "      <th>...</th>\n",
       "      <td>...</td>\n",
       "      <td>...</td>\n",
       "      <td>...</td>\n",
       "      <td>...</td>\n",
       "      <td>...</td>\n",
       "      <td>...</td>\n",
       "      <td>...</td>\n",
       "      <td>...</td>\n",
       "      <td>...</td>\n",
       "      <td>...</td>\n",
       "      <td>...</td>\n",
       "      <td>...</td>\n",
       "      <td>...</td>\n",
       "      <td>...</td>\n",
       "    </tr>\n",
       "    <tr>\n",
       "      <th>1465</th>\n",
       "      <td>36</td>\n",
       "      <td>No</td>\n",
       "      <td>Research &amp; Development</td>\n",
       "      <td>23</td>\n",
       "      <td>2</td>\n",
       "      <td>Medical</td>\n",
       "      <td>Male</td>\n",
       "      <td>Married</td>\n",
       "      <td>3</td>\n",
       "      <td>3</td>\n",
       "      <td>1</td>\n",
       "      <td>17</td>\n",
       "      <td>3</td>\n",
       "      <td>5</td>\n",
       "    </tr>\n",
       "    <tr>\n",
       "      <th>1466</th>\n",
       "      <td>39</td>\n",
       "      <td>No</td>\n",
       "      <td>Research &amp; Development</td>\n",
       "      <td>6</td>\n",
       "      <td>1</td>\n",
       "      <td>Medical</td>\n",
       "      <td>Male</td>\n",
       "      <td>Married</td>\n",
       "      <td>3</td>\n",
       "      <td>1</td>\n",
       "      <td>1</td>\n",
       "      <td>9</td>\n",
       "      <td>3</td>\n",
       "      <td>7</td>\n",
       "    </tr>\n",
       "    <tr>\n",
       "      <th>1467</th>\n",
       "      <td>27</td>\n",
       "      <td>No</td>\n",
       "      <td>Research &amp; Development</td>\n",
       "      <td>4</td>\n",
       "      <td>3</td>\n",
       "      <td>Life Sciences</td>\n",
       "      <td>Male</td>\n",
       "      <td>Married</td>\n",
       "      <td>4</td>\n",
       "      <td>2</td>\n",
       "      <td>1</td>\n",
       "      <td>6</td>\n",
       "      <td>3</td>\n",
       "      <td>6</td>\n",
       "    </tr>\n",
       "    <tr>\n",
       "      <th>1468</th>\n",
       "      <td>49</td>\n",
       "      <td>No</td>\n",
       "      <td>Sales</td>\n",
       "      <td>2</td>\n",
       "      <td>3</td>\n",
       "      <td>Medical</td>\n",
       "      <td>Male</td>\n",
       "      <td>Married</td>\n",
       "      <td>3</td>\n",
       "      <td>4</td>\n",
       "      <td>0</td>\n",
       "      <td>17</td>\n",
       "      <td>2</td>\n",
       "      <td>9</td>\n",
       "    </tr>\n",
       "    <tr>\n",
       "      <th>1469</th>\n",
       "      <td>34</td>\n",
       "      <td>No</td>\n",
       "      <td>Research &amp; Development</td>\n",
       "      <td>8</td>\n",
       "      <td>3</td>\n",
       "      <td>Medical</td>\n",
       "      <td>Male</td>\n",
       "      <td>Married</td>\n",
       "      <td>3</td>\n",
       "      <td>1</td>\n",
       "      <td>0</td>\n",
       "      <td>6</td>\n",
       "      <td>4</td>\n",
       "      <td>4</td>\n",
       "    </tr>\n",
       "  </tbody>\n",
       "</table>\n",
       "<p>1470 rows × 14 columns</p>\n",
       "</div>"
      ],
      "text/plain": [
       "      Age Attrition              Department  DistanceFromHome  Education  \\\n",
       "0      41       Yes                   Sales                 1          2   \n",
       "1      49        No  Research & Development                 8          1   \n",
       "2      37       Yes  Research & Development                 2          2   \n",
       "3      33        No  Research & Development                 3          4   \n",
       "4      27        No  Research & Development                 2          1   \n",
       "...   ...       ...                     ...               ...        ...   \n",
       "1465   36        No  Research & Development                23          2   \n",
       "1466   39        No  Research & Development                 6          1   \n",
       "1467   27        No  Research & Development                 4          3   \n",
       "1468   49        No                   Sales                 2          3   \n",
       "1469   34        No  Research & Development                 8          3   \n",
       "\n",
       "     EducationField  Gender MaritalStatus  PerformanceRating  \\\n",
       "0     Life Sciences  Female        Single                  3   \n",
       "1     Life Sciences    Male       Married                  4   \n",
       "2             Other    Male        Single                  3   \n",
       "3     Life Sciences  Female       Married                  3   \n",
       "4           Medical    Male       Married                  3   \n",
       "...             ...     ...           ...                ...   \n",
       "1465        Medical    Male       Married                  3   \n",
       "1466        Medical    Male       Married                  3   \n",
       "1467  Life Sciences    Male       Married                  4   \n",
       "1468        Medical    Male       Married                  3   \n",
       "1469        Medical    Male       Married                  3   \n",
       "\n",
       "      RelationshipSatisfaction  StockOptionLevel  TotalWorkingYears  \\\n",
       "0                            1                 0                  8   \n",
       "1                            4                 1                 10   \n",
       "2                            2                 0                  7   \n",
       "3                            3                 0                  8   \n",
       "4                            4                 1                  6   \n",
       "...                        ...               ...                ...   \n",
       "1465                         3                 1                 17   \n",
       "1466                         1                 1                  9   \n",
       "1467                         2                 1                  6   \n",
       "1468                         4                 0                 17   \n",
       "1469                         1                 0                  6   \n",
       "\n",
       "      WorkLifeBalance  YearsAtCompany  \n",
       "0                   1               6  \n",
       "1                   3              10  \n",
       "2                   3               0  \n",
       "3                   3               8  \n",
       "4                   3               2  \n",
       "...               ...             ...  \n",
       "1465                3               5  \n",
       "1466                3               7  \n",
       "1467                3               6  \n",
       "1468                2               9  \n",
       "1469                4               4  \n",
       "\n",
       "[1470 rows x 14 columns]"
      ]
     },
     "execution_count": 4,
     "metadata": {},
     "output_type": "execute_result"
    }
   ],
   "source": [
    "data"
   ]
  },
  {
   "cell_type": "code",
   "execution_count": 5,
   "metadata": {},
   "outputs": [
    {
     "data": {
      "text/plain": [
       "<matplotlib.axes._subplots.AxesSubplot at 0x21cca386310>"
      ]
     },
     "execution_count": 5,
     "metadata": {},
     "output_type": "execute_result"
    },
    {
     "data": {
      "image/png": "[encoded data removed]",
      "text/plain": [
       "<Figure size 144x144 with 2 Axes>"
      ]
     },
     "metadata": {
      "needs_background": "light"
     },
     "output_type": "display_data"
    }
   ],
   "source": [
    "plt.figure(figsize=(2,2))# untuk size\n",
    "sns.heatmap(data.isna()) # untuk plot heatmap NaN\n",
    "\n",
    "#checking missing value"
   ]
  },
  {
   "cell_type": "code",
   "execution_count": 6,
   "metadata": {},
   "outputs": [
    {
     "data": {
      "text/plain": [
       "Age                         0\n",
       "Attrition                   0\n",
       "Department                  0\n",
       "DistanceFromHome            0\n",
       "Education                   0\n",
       "EducationField              0\n",
       "Gender                      0\n",
       "MaritalStatus               0\n",
       "PerformanceRating           0\n",
       "RelationshipSatisfaction    0\n",
       "StockOptionLevel            0\n",
       "TotalWorkingYears           0\n",
       "WorkLifeBalance             0\n",
       "YearsAtCompany              0\n",
       "dtype: int64"
      ]
     },
     "execution_count": 6,
     "metadata": {},
     "output_type": "execute_result"
    }
   ],
   "source": [
    "data.isna().sum()"
   ]
  },
  {
   "cell_type": "code",
   "execution_count": 7,
   "metadata": {},
   "outputs": [
    {
     "data": {
      "text/html": [
       "<div>\n",
       "<style scoped>\n",
       "    .dataframe tbody tr th:only-of-type {\n",
       "        vertical-align: middle;\n",
       "    }\n",
       "\n",
       "    .dataframe tbody tr th {\n",
       "        vertical-align: top;\n",
       "    }\n",
       "\n",
       "    .dataframe thead th {\n",
       "        text-align: right;\n",
       "    }\n",
       "</style>\n",
       "<table border=\"1\" class=\"dataframe\">\n",
       "  <thead>\n",
       "    <tr style=\"text-align: right;\">\n",
       "      <th></th>\n",
       "      <th>Age</th>\n",
       "      <th>DistanceFromHome</th>\n",
       "      <th>Education</th>\n",
       "      <th>PerformanceRating</th>\n",
       "      <th>RelationshipSatisfaction</th>\n",
       "      <th>StockOptionLevel</th>\n",
       "      <th>TotalWorkingYears</th>\n",
       "      <th>WorkLifeBalance</th>\n",
       "      <th>YearsAtCompany</th>\n",
       "    </tr>\n",
       "  </thead>\n",
       "  <tbody>\n",
       "    <tr>\n",
       "      <th>count</th>\n",
       "      <td>1470.000000</td>\n",
       "      <td>1470.000000</td>\n",
       "      <td>1470.000000</td>\n",
       "      <td>1470.000000</td>\n",
       "      <td>1470.000000</td>\n",
       "      <td>1470.000000</td>\n",
       "      <td>1470.000000</td>\n",
       "      <td>1470.000000</td>\n",
       "      <td>1470.000000</td>\n",
       "    </tr>\n",
       "    <tr>\n",
       "      <th>mean</th>\n",
       "      <td>36.923810</td>\n",
       "      <td>9.192517</td>\n",
       "      <td>2.912925</td>\n",
       "      <td>3.153741</td>\n",
       "      <td>2.712245</td>\n",
       "      <td>0.793878</td>\n",
       "      <td>11.279592</td>\n",
       "      <td>2.761224</td>\n",
       "      <td>7.008163</td>\n",
       "    </tr>\n",
       "    <tr>\n",
       "      <th>std</th>\n",
       "      <td>9.135373</td>\n",
       "      <td>8.106864</td>\n",
       "      <td>1.024165</td>\n",
       "      <td>0.360824</td>\n",
       "      <td>1.081209</td>\n",
       "      <td>0.852077</td>\n",
       "      <td>7.780782</td>\n",
       "      <td>0.706476</td>\n",
       "      <td>6.126525</td>\n",
       "    </tr>\n",
       "    <tr>\n",
       "      <th>min</th>\n",
       "      <td>18.000000</td>\n",
       "      <td>1.000000</td>\n",
       "      <td>1.000000</td>\n",
       "      <td>3.000000</td>\n",
       "      <td>1.000000</td>\n",
       "      <td>0.000000</td>\n",
       "      <td>0.000000</td>\n",
       "      <td>1.000000</td>\n",
       "      <td>0.000000</td>\n",
       "    </tr>\n",
       "    <tr>\n",
       "      <th>25%</th>\n",
       "      <td>30.000000</td>\n",
       "      <td>2.000000</td>\n",
       "      <td>2.000000</td>\n",
       "      <td>3.000000</td>\n",
       "      <td>2.000000</td>\n",
       "      <td>0.000000</td>\n",
       "      <td>6.000000</td>\n",
       "      <td>2.000000</td>\n",
       "      <td>3.000000</td>\n",
       "    </tr>\n",
       "    <tr>\n",
       "      <th>50%</th>\n",
       "      <td>36.000000</td>\n",
       "      <td>7.000000</td>\n",
       "      <td>3.000000</td>\n",
       "      <td>3.000000</td>\n",
       "      <td>3.000000</td>\n",
       "      <td>1.000000</td>\n",
       "      <td>10.000000</td>\n",
       "      <td>3.000000</td>\n",
       "      <td>5.000000</td>\n",
       "    </tr>\n",
       "    <tr>\n",
       "      <th>75%</th>\n",
       "      <td>43.000000</td>\n",
       "      <td>14.000000</td>\n",
       "      <td>4.000000</td>\n",
       "      <td>3.000000</td>\n",
       "      <td>4.000000</td>\n",
       "      <td>1.000000</td>\n",
       "      <td>15.000000</td>\n",
       "      <td>3.000000</td>\n",
       "      <td>9.000000</td>\n",
       "    </tr>\n",
       "    <tr>\n",
       "      <th>max</th>\n",
       "      <td>60.000000</td>\n",
       "      <td>29.000000</td>\n",
       "      <td>5.000000</td>\n",
       "      <td>4.000000</td>\n",
       "      <td>4.000000</td>\n",
       "      <td>3.000000</td>\n",
       "      <td>40.000000</td>\n",
       "      <td>4.000000</td>\n",
       "      <td>40.000000</td>\n",
       "    </tr>\n",
       "  </tbody>\n",
       "</table>\n",
       "</div>"
      ],
      "text/plain": [
       "               Age  DistanceFromHome    Education  PerformanceRating  \\\n",
       "count  1470.000000       1470.000000  1470.000000        1470.000000   \n",
       "mean     36.923810          9.192517     2.912925           3.153741   \n",
       "std       9.135373          8.106864     1.024165           0.360824   \n",
       "min      18.000000          1.000000     1.000000           3.000000   \n",
       "25%      30.000000          2.000000     2.000000           3.000000   \n",
       "50%      36.000000          7.000000     3.000000           3.000000   \n",
       "75%      43.000000         14.000000     4.000000           3.000000   \n",
       "max      60.000000         29.000000     5.000000           4.000000   \n",
       "\n",
       "       RelationshipSatisfaction  StockOptionLevel  TotalWorkingYears  \\\n",
       "count               1470.000000       1470.000000        1470.000000   \n",
       "mean                   2.712245          0.793878          11.279592   \n",
       "std                    1.081209          0.852077           7.780782   \n",
       "min                    1.000000          0.000000           0.000000   \n",
       "25%                    2.000000          0.000000           6.000000   \n",
       "50%                    3.000000          1.000000          10.000000   \n",
       "75%                    4.000000          1.000000          15.000000   \n",
       "max                    4.000000          3.000000          40.000000   \n",
       "\n",
       "       WorkLifeBalance  YearsAtCompany  \n",
       "count      1470.000000     1470.000000  \n",
       "mean          2.761224        7.008163  \n",
       "std           0.706476        6.126525  \n",
       "min           1.000000        0.000000  \n",
       "25%           2.000000        3.000000  \n",
       "50%           3.000000        5.000000  \n",
       "75%           3.000000        9.000000  \n",
       "max           4.000000       40.000000  "
      ]
     },
     "execution_count": 7,
     "metadata": {},
     "output_type": "execute_result"
    }
   ],
   "source": [
    "data.describe()"
   ]
  },
  {
   "cell_type": "code",
   "execution_count": 8,
   "metadata": {},
   "outputs": [
    {
     "data": {
      "text/plain": [
       "<matplotlib.axes._subplots.AxesSubplot at 0x21cca4b5880>"
      ]
     },
     "execution_count": 8,
     "metadata": {},
     "output_type": "execute_result"
    },
    {
     "data": {
      "image/png": "[encoded data removed]",
      "text/plain": [
       "<Figure size 432x288 with 1 Axes>"
      ]
     },
     "metadata": {
      "needs_background": "light"
     },
     "output_type": "display_data"
    }
   ],
   "source": [
    "sns.boxplot(data=data,palette='rainbow',orient='h')"
   ]
  },
  {
   "cell_type": "code",
   "execution_count": 9,
   "metadata": {},
   "outputs": [
    {
     "data": {
      "text/plain": [
       "<matplotlib.axes._subplots.AxesSubplot at 0x21cca60b4c0>"
      ]
     },
     "execution_count": 9,
     "metadata": {},
     "output_type": "execute_result"
    },
    {
     "data": {
      "image/png": "[encoded data removed]",
      "text/plain": [
       "<Figure size 432x288 with 2 Axes>"
      ]
     },
     "metadata": {
      "needs_background": "light"
     },
     "output_type": "display_data"
    }
   ],
   "source": [
    "sns.heatmap(data.corr())"
   ]
  },
  {
   "cell_type": "code",
   "execution_count": 10,
   "metadata": {},
   "outputs": [
    {
     "name": "stdout",
     "output_type": "stream",
     "text": [
      "Yes : 237\n",
      "No : 1233\n",
      "Attrition Rate: 16.122448979591837 %\n"
     ]
    }
   ],
   "source": [
    "att_total = data['Attrition'].value_counts()\n",
    "\n",
    "#company total attrition rate\n",
    "att_rate = att_total['Yes']/att_total.sum()*100\n",
    "\n",
    "print('Yes :',att_total['Yes'])\n",
    "print('No :',att_total['No'])\n",
    "print('Attrition Rate:',att_rate,'%')"
   ]
  },
  {
   "cell_type": "code",
   "execution_count": 11,
   "metadata": {},
   "outputs": [
    {
     "data": {
      "text/plain": [
       "Attrition\n",
       "No     37.561233\n",
       "Yes    33.607595\n",
       "dtype: float64"
      ]
     },
     "execution_count": 11,
     "metadata": {},
     "output_type": "execute_result"
    }
   ],
   "source": [
    "att_by_age = data[['Attrition','Age','PerformanceRating']]\n",
    "att_total_age = att_by_age.groupby(['Attrition']).sum()\n",
    "att_by_age_corr = att_total_age['Age']/att_total\n",
    "att_by_age_corr"
   ]
  },
  {
   "cell_type": "code",
   "execution_count": 12,
   "metadata": {},
   "outputs": [
    {
     "data": {
      "text/html": [
       "<div>\n",
       "<style scoped>\n",
       "    .dataframe tbody tr th:only-of-type {\n",
       "        vertical-align: middle;\n",
       "    }\n",
       "\n",
       "    .dataframe tbody tr th {\n",
       "        vertical-align: top;\n",
       "    }\n",
       "\n",
       "    .dataframe thead th {\n",
       "        text-align: right;\n",
       "    }\n",
       "</style>\n",
       "<table border=\"1\" class=\"dataframe\">\n",
       "  <thead>\n",
       "    <tr style=\"text-align: right;\">\n",
       "      <th></th>\n",
       "      <th>PerformanceRating</th>\n",
       "    </tr>\n",
       "    <tr>\n",
       "      <th>Age</th>\n",
       "      <th></th>\n",
       "    </tr>\n",
       "  </thead>\n",
       "  <tbody>\n",
       "    <tr>\n",
       "      <th>18</th>\n",
       "      <td>3.000000</td>\n",
       "    </tr>\n",
       "    <tr>\n",
       "      <th>19</th>\n",
       "      <td>3.444444</td>\n",
       "    </tr>\n",
       "    <tr>\n",
       "      <th>20</th>\n",
       "      <td>3.000000</td>\n",
       "    </tr>\n",
       "    <tr>\n",
       "      <th>21</th>\n",
       "      <td>3.153846</td>\n",
       "    </tr>\n",
       "    <tr>\n",
       "      <th>22</th>\n",
       "      <td>3.250000</td>\n",
       "    </tr>\n",
       "    <tr>\n",
       "      <th>23</th>\n",
       "      <td>3.214286</td>\n",
       "    </tr>\n",
       "    <tr>\n",
       "      <th>24</th>\n",
       "      <td>3.115385</td>\n",
       "    </tr>\n",
       "    <tr>\n",
       "      <th>25</th>\n",
       "      <td>3.115385</td>\n",
       "    </tr>\n",
       "    <tr>\n",
       "      <th>26</th>\n",
       "      <td>3.256410</td>\n",
       "    </tr>\n",
       "    <tr>\n",
       "      <th>27</th>\n",
       "      <td>3.104167</td>\n",
       "    </tr>\n",
       "    <tr>\n",
       "      <th>28</th>\n",
       "      <td>3.125000</td>\n",
       "    </tr>\n",
       "    <tr>\n",
       "      <th>29</th>\n",
       "      <td>3.088235</td>\n",
       "    </tr>\n",
       "    <tr>\n",
       "      <th>30</th>\n",
       "      <td>3.216667</td>\n",
       "    </tr>\n",
       "    <tr>\n",
       "      <th>31</th>\n",
       "      <td>3.173913</td>\n",
       "    </tr>\n",
       "    <tr>\n",
       "      <th>32</th>\n",
       "      <td>3.163934</td>\n",
       "    </tr>\n",
       "    <tr>\n",
       "      <th>33</th>\n",
       "      <td>3.155172</td>\n",
       "    </tr>\n",
       "    <tr>\n",
       "      <th>34</th>\n",
       "      <td>3.155844</td>\n",
       "    </tr>\n",
       "    <tr>\n",
       "      <th>35</th>\n",
       "      <td>3.115385</td>\n",
       "    </tr>\n",
       "    <tr>\n",
       "      <th>36</th>\n",
       "      <td>3.188406</td>\n",
       "    </tr>\n",
       "    <tr>\n",
       "      <th>37</th>\n",
       "      <td>3.100000</td>\n",
       "    </tr>\n",
       "    <tr>\n",
       "      <th>38</th>\n",
       "      <td>3.137931</td>\n",
       "    </tr>\n",
       "    <tr>\n",
       "      <th>39</th>\n",
       "      <td>3.166667</td>\n",
       "    </tr>\n",
       "    <tr>\n",
       "      <th>40</th>\n",
       "      <td>3.175439</td>\n",
       "    </tr>\n",
       "    <tr>\n",
       "      <th>41</th>\n",
       "      <td>3.175000</td>\n",
       "    </tr>\n",
       "    <tr>\n",
       "      <th>42</th>\n",
       "      <td>3.130435</td>\n",
       "    </tr>\n",
       "    <tr>\n",
       "      <th>43</th>\n",
       "      <td>3.187500</td>\n",
       "    </tr>\n",
       "    <tr>\n",
       "      <th>44</th>\n",
       "      <td>3.121212</td>\n",
       "    </tr>\n",
       "    <tr>\n",
       "      <th>45</th>\n",
       "      <td>3.170732</td>\n",
       "    </tr>\n",
       "    <tr>\n",
       "      <th>46</th>\n",
       "      <td>3.212121</td>\n",
       "    </tr>\n",
       "    <tr>\n",
       "      <th>47</th>\n",
       "      <td>3.083333</td>\n",
       "    </tr>\n",
       "    <tr>\n",
       "      <th>48</th>\n",
       "      <td>3.157895</td>\n",
       "    </tr>\n",
       "    <tr>\n",
       "      <th>49</th>\n",
       "      <td>3.166667</td>\n",
       "    </tr>\n",
       "    <tr>\n",
       "      <th>50</th>\n",
       "      <td>3.066667</td>\n",
       "    </tr>\n",
       "    <tr>\n",
       "      <th>51</th>\n",
       "      <td>3.210526</td>\n",
       "    </tr>\n",
       "    <tr>\n",
       "      <th>52</th>\n",
       "      <td>3.111111</td>\n",
       "    </tr>\n",
       "    <tr>\n",
       "      <th>53</th>\n",
       "      <td>3.157895</td>\n",
       "    </tr>\n",
       "    <tr>\n",
       "      <th>54</th>\n",
       "      <td>3.111111</td>\n",
       "    </tr>\n",
       "    <tr>\n",
       "      <th>55</th>\n",
       "      <td>3.136364</td>\n",
       "    </tr>\n",
       "    <tr>\n",
       "      <th>56</th>\n",
       "      <td>3.142857</td>\n",
       "    </tr>\n",
       "    <tr>\n",
       "      <th>57</th>\n",
       "      <td>3.250000</td>\n",
       "    </tr>\n",
       "    <tr>\n",
       "      <th>58</th>\n",
       "      <td>3.285714</td>\n",
       "    </tr>\n",
       "    <tr>\n",
       "      <th>59</th>\n",
       "      <td>3.200000</td>\n",
       "    </tr>\n",
       "    <tr>\n",
       "      <th>60</th>\n",
       "      <td>3.200000</td>\n",
       "    </tr>\n",
       "  </tbody>\n",
       "</table>\n",
       "</div>"
      ],
      "text/plain": [
       "     PerformanceRating\n",
       "Age                   \n",
       "18            3.000000\n",
       "19            3.444444\n",
       "20            3.000000\n",
       "21            3.153846\n",
       "22            3.250000\n",
       "23            3.214286\n",
       "24            3.115385\n",
       "25            3.115385\n",
       "26            3.256410\n",
       "27            3.104167\n",
       "28            3.125000\n",
       "29            3.088235\n",
       "30            3.216667\n",
       "31            3.173913\n",
       "32            3.163934\n",
       "33            3.155172\n",
       "34            3.155844\n",
       "35            3.115385\n",
       "36            3.188406\n",
       "37            3.100000\n",
       "38            3.137931\n",
       "39            3.166667\n",
       "40            3.175439\n",
       "41            3.175000\n",
       "42            3.130435\n",
       "43            3.187500\n",
       "44            3.121212\n",
       "45            3.170732\n",
       "46            3.212121\n",
       "47            3.083333\n",
       "48            3.157895\n",
       "49            3.166667\n",
       "50            3.066667\n",
       "51            3.210526\n",
       "52            3.111111\n",
       "53            3.157895\n",
       "54            3.111111\n",
       "55            3.136364\n",
       "56            3.142857\n",
       "57            3.250000\n",
       "58            3.285714\n",
       "59            3.200000\n",
       "60            3.200000"
      ]
     },
     "execution_count": 12,
     "metadata": {},
     "output_type": "execute_result"
    }
   ],
   "source": [
    "att_age_perf = att_by_age.groupby(['Age']).count()\n",
    "att_total_perf = att_by_age.groupby(['Age']).sum()\n",
    "\n",
    "att_perf_by_age = att_total_perf/att_age_perf\n",
    "att_perf_by_age[['PerformanceRating']]"
   ]
  },
  {
   "cell_type": "code",
   "execution_count": 13,
   "metadata": {},
   "outputs": [
    {
     "data": {
      "text/html": [
       "<div>\n",
       "<style scoped>\n",
       "    .dataframe tbody tr th:only-of-type {\n",
       "        vertical-align: middle;\n",
       "    }\n",
       "\n",
       "    .dataframe tbody tr th {\n",
       "        vertical-align: top;\n",
       "    }\n",
       "\n",
       "    .dataframe thead th {\n",
       "        text-align: right;\n",
       "    }\n",
       "</style>\n",
       "<table border=\"1\" class=\"dataframe\">\n",
       "  <thead>\n",
       "    <tr style=\"text-align: right;\">\n",
       "      <th>MaritalStatus</th>\n",
       "      <th>Divorced</th>\n",
       "      <th>Married</th>\n",
       "      <th>Single</th>\n",
       "    </tr>\n",
       "    <tr>\n",
       "      <th>Attrition</th>\n",
       "      <th></th>\n",
       "      <th></th>\n",
       "      <th></th>\n",
       "    </tr>\n",
       "  </thead>\n",
       "  <tbody>\n",
       "    <tr>\n",
       "      <th>No</th>\n",
       "      <td>294</td>\n",
       "      <td>589</td>\n",
       "      <td>350</td>\n",
       "    </tr>\n",
       "    <tr>\n",
       "      <th>Yes</th>\n",
       "      <td>33</td>\n",
       "      <td>84</td>\n",
       "      <td>120</td>\n",
       "    </tr>\n",
       "  </tbody>\n",
       "</table>\n",
       "</div>"
      ],
      "text/plain": [
       "MaritalStatus  Divorced  Married  Single\n",
       "Attrition                               \n",
       "No                  294      589     350\n",
       "Yes                  33       84     120"
      ]
     },
     "execution_count": 13,
     "metadata": {},
     "output_type": "execute_result"
    }
   ],
   "source": [
    "att_by_marital = data[['Attrition','MaritalStatus','PerformanceRating']]\n",
    "att_total_marital = pd.crosstab(index=data['Attrition'], columns=data['MaritalStatus'])\n",
    "att_total_marital"
   ]
  },
  {
   "cell_type": "code",
   "execution_count": 14,
   "metadata": {},
   "outputs": [],
   "source": [
    "percent_att_marital_single=(att_total_marital['Single']['Yes']/(att_total_marital['Single']['Yes']+att_total_marital['Single']['No']))*100\n",
    "percent_att_marital_married=(att_total_marital['Married']['Yes']/(att_total_marital['Married']['Yes']+att_total_marital['Married']['No']))*100\n",
    "percent_att_marital_divorced=(att_total_marital['Divorced']['Yes']/(att_total_marital['Divorced']['Yes']+att_total_marital['Divorced']['No']))*100\n"
   ]
  },
  {
   "cell_type": "code",
   "execution_count": 15,
   "metadata": {},
   "outputs": [
    {
     "data": {
      "text/html": [
       "<div>\n",
       "<style scoped>\n",
       "    .dataframe tbody tr th:only-of-type {\n",
       "        vertical-align: middle;\n",
       "    }\n",
       "\n",
       "    .dataframe tbody tr th {\n",
       "        vertical-align: top;\n",
       "    }\n",
       "\n",
       "    .dataframe thead th {\n",
       "        text-align: right;\n",
       "    }\n",
       "</style>\n",
       "<table border=\"1\" class=\"dataframe\">\n",
       "  <thead>\n",
       "    <tr style=\"text-align: right;\">\n",
       "      <th></th>\n",
       "      <th>PerformanceRating</th>\n",
       "    </tr>\n",
       "    <tr>\n",
       "      <th>MaritalStatus</th>\n",
       "      <th></th>\n",
       "    </tr>\n",
       "  </thead>\n",
       "  <tbody>\n",
       "    <tr>\n",
       "      <th>Divorced</th>\n",
       "      <td>3.146789</td>\n",
       "    </tr>\n",
       "    <tr>\n",
       "      <th>Married</th>\n",
       "      <td>3.157504</td>\n",
       "    </tr>\n",
       "    <tr>\n",
       "      <th>Single</th>\n",
       "      <td>3.153191</td>\n",
       "    </tr>\n",
       "  </tbody>\n",
       "</table>\n",
       "</div>"
      ],
      "text/plain": [
       "               PerformanceRating\n",
       "MaritalStatus                   \n",
       "Divorced                3.146789\n",
       "Married                 3.157504\n",
       "Single                  3.153191"
      ]
     },
     "execution_count": 15,
     "metadata": {},
     "output_type": "execute_result"
    }
   ],
   "source": [
    "att_marital_perf = att_by_marital.groupby(['MaritalStatus']).count()\n",
    "att_total_perf= att_by_marital.groupby(['MaritalStatus']).sum()\n",
    "att_total_perf= att_by_marital.groupby(['MaritalStatus']).sum()\n",
    "\n",
    "att_marital_perf_rate = att_total_perf/att_marital_perf\n",
    "att_marital_perf_rate[['PerformanceRating']]"
   ]
  },
  {
   "cell_type": "code",
   "execution_count": 16,
   "metadata": {},
   "outputs": [
    {
     "data": {
      "text/html": [
       "<div>\n",
       "<style scoped>\n",
       "    .dataframe tbody tr th:only-of-type {\n",
       "        vertical-align: middle;\n",
       "    }\n",
       "\n",
       "    .dataframe tbody tr th {\n",
       "        vertical-align: top;\n",
       "    }\n",
       "\n",
       "    .dataframe thead th {\n",
       "        text-align: right;\n",
       "    }\n",
       "</style>\n",
       "<table border=\"1\" class=\"dataframe\">\n",
       "  <thead>\n",
       "    <tr style=\"text-align: right;\">\n",
       "      <th></th>\n",
       "      <th>DistanceFromHome</th>\n",
       "      <th>PerformanceRating</th>\n",
       "    </tr>\n",
       "    <tr>\n",
       "      <th>Attrition</th>\n",
       "      <th></th>\n",
       "      <th></th>\n",
       "    </tr>\n",
       "  </thead>\n",
       "  <tbody>\n",
       "    <tr>\n",
       "      <th>No</th>\n",
       "      <td>8.915653</td>\n",
       "      <td>3.153285</td>\n",
       "    </tr>\n",
       "    <tr>\n",
       "      <th>Yes</th>\n",
       "      <td>10.632911</td>\n",
       "      <td>3.156118</td>\n",
       "    </tr>\n",
       "  </tbody>\n",
       "</table>\n",
       "</div>"
      ],
      "text/plain": [
       "           DistanceFromHome  PerformanceRating\n",
       "Attrition                                     \n",
       "No                 8.915653           3.153285\n",
       "Yes               10.632911           3.156118"
      ]
     },
     "execution_count": 16,
     "metadata": {},
     "output_type": "execute_result"
    }
   ],
   "source": [
    "att_by_dist = data[['Attrition','DistanceFromHome','PerformanceRating']]\n",
    "att_sum_dist = att_by_dist.groupby(['Attrition']).sum()\n",
    "att_total_dist = att_by_dist.groupby(['Attrition']).count()\n",
    "att_sum_dist/att_total_dist"
   ]
  },
  {
   "cell_type": "code",
   "execution_count": 17,
   "metadata": {},
   "outputs": [
    {
     "data": {
      "text/html": [
       "<div>\n",
       "<style scoped>\n",
       "    .dataframe tbody tr th:only-of-type {\n",
       "        vertical-align: middle;\n",
       "    }\n",
       "\n",
       "    .dataframe tbody tr th {\n",
       "        vertical-align: top;\n",
       "    }\n",
       "\n",
       "    .dataframe thead th {\n",
       "        text-align: right;\n",
       "    }\n",
       "</style>\n",
       "<table border=\"1\" class=\"dataframe\">\n",
       "  <thead>\n",
       "    <tr style=\"text-align: right;\">\n",
       "      <th></th>\n",
       "      <th>Education</th>\n",
       "      <th>PerformanceRating</th>\n",
       "    </tr>\n",
       "    <tr>\n",
       "      <th>Attrition</th>\n",
       "      <th></th>\n",
       "      <th></th>\n",
       "    </tr>\n",
       "  </thead>\n",
       "  <tbody>\n",
       "    <tr>\n",
       "      <th>No</th>\n",
       "      <td>2.927007</td>\n",
       "      <td>3.153285</td>\n",
       "    </tr>\n",
       "    <tr>\n",
       "      <th>Yes</th>\n",
       "      <td>2.839662</td>\n",
       "      <td>3.156118</td>\n",
       "    </tr>\n",
       "  </tbody>\n",
       "</table>\n",
       "</div>"
      ],
      "text/plain": [
       "           Education  PerformanceRating\n",
       "Attrition                              \n",
       "No          2.927007           3.153285\n",
       "Yes         2.839662           3.156118"
      ]
     },
     "execution_count": 17,
     "metadata": {},
     "output_type": "execute_result"
    }
   ],
   "source": [
    "att_by_edu = data[['Attrition','Education','PerformanceRating']]\n",
    "att_sum_edu = att_by_edu.groupby(['Attrition']).sum()\n",
    "att_total_edu = att_by_edu.groupby(['Attrition']).count()\n",
    "att_sum_edu/att_total_edu"
   ]
  },
  {
   "cell_type": "code",
   "execution_count": 18,
   "metadata": {},
   "outputs": [
    {
     "data": {
      "text/html": [
       "<div>\n",
       "<style scoped>\n",
       "    .dataframe tbody tr th:only-of-type {\n",
       "        vertical-align: middle;\n",
       "    }\n",
       "\n",
       "    .dataframe tbody tr th {\n",
       "        vertical-align: top;\n",
       "    }\n",
       "\n",
       "    .dataframe thead th {\n",
       "        text-align: right;\n",
       "    }\n",
       "</style>\n",
       "<table border=\"1\" class=\"dataframe\">\n",
       "  <thead>\n",
       "    <tr style=\"text-align: right;\">\n",
       "      <th></th>\n",
       "      <th>RelationshipSatisfaction</th>\n",
       "      <th>PerformanceRating</th>\n",
       "    </tr>\n",
       "    <tr>\n",
       "      <th>Attrition</th>\n",
       "      <th></th>\n",
       "      <th></th>\n",
       "    </tr>\n",
       "  </thead>\n",
       "  <tbody>\n",
       "    <tr>\n",
       "      <th>No</th>\n",
       "      <td>2.733982</td>\n",
       "      <td>3.153285</td>\n",
       "    </tr>\n",
       "    <tr>\n",
       "      <th>Yes</th>\n",
       "      <td>2.599156</td>\n",
       "      <td>3.156118</td>\n",
       "    </tr>\n",
       "  </tbody>\n",
       "</table>\n",
       "</div>"
      ],
      "text/plain": [
       "           RelationshipSatisfaction  PerformanceRating\n",
       "Attrition                                             \n",
       "No                         2.733982           3.153285\n",
       "Yes                        2.599156           3.156118"
      ]
     },
     "execution_count": 18,
     "metadata": {},
     "output_type": "execute_result"
    }
   ],
   "source": [
    "att_by_rel = data[['Attrition','RelationshipSatisfaction','PerformanceRating']]\n",
    "att_sum_rel = att_by_rel.groupby(['Attrition']).sum()\n",
    "att_total_rel = att_by_rel.groupby(['Attrition']).count()\n",
    "att_sum_rel/att_total_rel"
   ]
  },
  {
   "cell_type": "code",
   "execution_count": 19,
   "metadata": {},
   "outputs": [
    {
     "data": {
      "text/html": [
       "<div>\n",
       "<style scoped>\n",
       "    .dataframe tbody tr th:only-of-type {\n",
       "        vertical-align: middle;\n",
       "    }\n",
       "\n",
       "    .dataframe tbody tr th {\n",
       "        vertical-align: top;\n",
       "    }\n",
       "\n",
       "    .dataframe thead th {\n",
       "        text-align: right;\n",
       "    }\n",
       "</style>\n",
       "<table border=\"1\" class=\"dataframe\">\n",
       "  <thead>\n",
       "    <tr style=\"text-align: right;\">\n",
       "      <th></th>\n",
       "      <th>StockOptionLevel</th>\n",
       "      <th>PerformanceRating</th>\n",
       "    </tr>\n",
       "    <tr>\n",
       "      <th>Attrition</th>\n",
       "      <th></th>\n",
       "      <th></th>\n",
       "    </tr>\n",
       "  </thead>\n",
       "  <tbody>\n",
       "    <tr>\n",
       "      <th>No</th>\n",
       "      <td>0.845093</td>\n",
       "      <td>3.153285</td>\n",
       "    </tr>\n",
       "    <tr>\n",
       "      <th>Yes</th>\n",
       "      <td>0.527426</td>\n",
       "      <td>3.156118</td>\n",
       "    </tr>\n",
       "  </tbody>\n",
       "</table>\n",
       "</div>"
      ],
      "text/plain": [
       "           StockOptionLevel  PerformanceRating\n",
       "Attrition                                     \n",
       "No                 0.845093           3.153285\n",
       "Yes                0.527426           3.156118"
      ]
     },
     "execution_count": 19,
     "metadata": {},
     "output_type": "execute_result"
    }
   ],
   "source": [
    "att_by_so = data[['Attrition','StockOptionLevel','PerformanceRating']]\n",
    "att_sum_so = att_by_so.groupby(['Attrition']).sum()\n",
    "att_total_so = att_by_so.groupby(['Attrition']).count()\n",
    "att_sum_so/att_total_so"
   ]
  },
  {
   "cell_type": "code",
   "execution_count": 20,
   "metadata": {},
   "outputs": [
    {
     "data": {
      "text/html": [
       "<div>\n",
       "<style scoped>\n",
       "    .dataframe tbody tr th:only-of-type {\n",
       "        vertical-align: middle;\n",
       "    }\n",
       "\n",
       "    .dataframe tbody tr th {\n",
       "        vertical-align: top;\n",
       "    }\n",
       "\n",
       "    .dataframe thead th {\n",
       "        text-align: right;\n",
       "    }\n",
       "</style>\n",
       "<table border=\"1\" class=\"dataframe\">\n",
       "  <thead>\n",
       "    <tr style=\"text-align: right;\">\n",
       "      <th></th>\n",
       "      <th>TotalWorkingYears</th>\n",
       "      <th>PerformanceRating</th>\n",
       "    </tr>\n",
       "    <tr>\n",
       "      <th>Attrition</th>\n",
       "      <th></th>\n",
       "      <th></th>\n",
       "    </tr>\n",
       "  </thead>\n",
       "  <tbody>\n",
       "    <tr>\n",
       "      <th>No</th>\n",
       "      <td>11.862936</td>\n",
       "      <td>3.153285</td>\n",
       "    </tr>\n",
       "    <tr>\n",
       "      <th>Yes</th>\n",
       "      <td>8.244726</td>\n",
       "      <td>3.156118</td>\n",
       "    </tr>\n",
       "  </tbody>\n",
       "</table>\n",
       "</div>"
      ],
      "text/plain": [
       "           TotalWorkingYears  PerformanceRating\n",
       "Attrition                                      \n",
       "No                 11.862936           3.153285\n",
       "Yes                 8.244726           3.156118"
      ]
     },
     "execution_count": 20,
     "metadata": {},
     "output_type": "execute_result"
    }
   ],
   "source": [
    "att_by_twy = data[['Attrition','TotalWorkingYears','PerformanceRating']]\n",
    "att_sum_twy = att_by_twy.groupby(['Attrition']).sum()\n",
    "att_total_twy = att_by_twy.groupby(['Attrition']).count()\n",
    "att_sum_twy/att_total_twy"
   ]
  },
  {
   "cell_type": "code",
   "execution_count": 21,
   "metadata": {},
   "outputs": [
    {
     "data": {
      "text/html": [
       "<div>\n",
       "<style scoped>\n",
       "    .dataframe tbody tr th:only-of-type {\n",
       "        vertical-align: middle;\n",
       "    }\n",
       "\n",
       "    .dataframe tbody tr th {\n",
       "        vertical-align: top;\n",
       "    }\n",
       "\n",
       "    .dataframe thead th {\n",
       "        text-align: right;\n",
       "    }\n",
       "</style>\n",
       "<table border=\"1\" class=\"dataframe\">\n",
       "  <thead>\n",
       "    <tr style=\"text-align: right;\">\n",
       "      <th></th>\n",
       "      <th>WorkLifeBalance</th>\n",
       "      <th>PerformanceRating</th>\n",
       "    </tr>\n",
       "    <tr>\n",
       "      <th>Attrition</th>\n",
       "      <th></th>\n",
       "      <th></th>\n",
       "    </tr>\n",
       "  </thead>\n",
       "  <tbody>\n",
       "    <tr>\n",
       "      <th>No</th>\n",
       "      <td>2.781022</td>\n",
       "      <td>3.153285</td>\n",
       "    </tr>\n",
       "    <tr>\n",
       "      <th>Yes</th>\n",
       "      <td>2.658228</td>\n",
       "      <td>3.156118</td>\n",
       "    </tr>\n",
       "  </tbody>\n",
       "</table>\n",
       "</div>"
      ],
      "text/plain": [
       "           WorkLifeBalance  PerformanceRating\n",
       "Attrition                                    \n",
       "No                2.781022           3.153285\n",
       "Yes               2.658228           3.156118"
      ]
     },
     "execution_count": 21,
     "metadata": {},
     "output_type": "execute_result"
    }
   ],
   "source": [
    "att_by_wlb = data[['Attrition','WorkLifeBalance','PerformanceRating']]\n",
    "att_sum_wlb = att_by_wlb.groupby(['Attrition']).sum()\n",
    "att_total_wlb = att_by_wlb.groupby(['Attrition']).count()\n",
    "att_sum_wlb/att_total_wlb"
   ]
  },
  {
   "cell_type": "code",
   "execution_count": 22,
   "metadata": {},
   "outputs": [
    {
     "data": {
      "text/html": [
       "<div>\n",
       "<style scoped>\n",
       "    .dataframe tbody tr th:only-of-type {\n",
       "        vertical-align: middle;\n",
       "    }\n",
       "\n",
       "    .dataframe tbody tr th {\n",
       "        vertical-align: top;\n",
       "    }\n",
       "\n",
       "    .dataframe thead th {\n",
       "        text-align: right;\n",
       "    }\n",
       "</style>\n",
       "<table border=\"1\" class=\"dataframe\">\n",
       "  <thead>\n",
       "    <tr style=\"text-align: right;\">\n",
       "      <th></th>\n",
       "      <th>YearsAtCompany</th>\n",
       "      <th>PerformanceRating</th>\n",
       "    </tr>\n",
       "    <tr>\n",
       "      <th>Attrition</th>\n",
       "      <th></th>\n",
       "      <th></th>\n",
       "    </tr>\n",
       "  </thead>\n",
       "  <tbody>\n",
       "    <tr>\n",
       "      <th>No</th>\n",
       "      <td>7.369019</td>\n",
       "      <td>3.153285</td>\n",
       "    </tr>\n",
       "    <tr>\n",
       "      <th>Yes</th>\n",
       "      <td>5.130802</td>\n",
       "      <td>3.156118</td>\n",
       "    </tr>\n",
       "  </tbody>\n",
       "</table>\n",
       "</div>"
      ],
      "text/plain": [
       "           YearsAtCompany  PerformanceRating\n",
       "Attrition                                   \n",
       "No               7.369019           3.153285\n",
       "Yes              5.130802           3.156118"
      ]
     },
     "execution_count": 22,
     "metadata": {},
     "output_type": "execute_result"
    }
   ],
   "source": [
    "att_by_yac = data[['Attrition','YearsAtCompany','PerformanceRating']]\n",
    "att_sum_yac = att_by_yac.groupby(['Attrition']).sum()\n",
    "att_total_yac = att_by_yac.groupby(['Attrition']).count()\n",
    "att_sum_yac/att_total_yac"
   ]
  },
  {
   "cell_type": "code",
   "execution_count": 76,
   "metadata": {},
   "outputs": [],
   "source": [
    "age_to_perf_1 = data[data['Age']<data.describe()['Age']['50%']]\n",
    "age_to_perf_2 = data[data['Age']>data.describe()['Age']['50%']]\n",
    "avg_age_to_perf_1 = age_to_perf_1['PerformanceRating'].mean()\n",
    "avg_age_to_perf_2 = age_to_perf_2['PerformanceRating'].mean()\n",
    "\n",
    "dist_to_perf_1 = data[data['DistanceFromHome']<data.describe()['DistanceFromHome']['50%']]\n",
    "dist_to_perf_2 = data[data['DistanceFromHome']>data.describe()['DistanceFromHome']['50%']]\n",
    "avg_dist_to_perf_1 = dist_to_perf_1['PerformanceRating'].mean()\n",
    "avg_dist_to_perf_1 = dist_to_perf_2['PerformanceRating'].mean()\n",
    "\n",
    "edu_to_perf_1 = data[data['Education']<data.describe()['Education']['50%']]\n",
    "edu_to_perf_2 = data[data['Education']>data.describe()['Education']['50%']]\n",
    "avg_edu_to_perf_1 = edu_to_perf_1['PerformanceRating'].mean()\n",
    "avg_edu_to_perf_2 = edu_to_perf_2['PerformanceRating'].mean()\n",
    "\n",
    "rel_to_perf_1 = data[data['RelationshipSatisfaction']<data.describe()['RelationshipSatisfaction']['50%']]\n",
    "rel_to_perf_2 = data[data['RelationshipSatisfaction']>data.describe()['RelationshipSatisfaction']['50%']]\n",
    "avg_rel_to_perf_1 = rel_to_perf_1['PerformanceRating'].mean()\n",
    "avg_rel_to_perf_2 = rel_to_perf_2['PerformanceRating'].mean()\n",
    "\n",
    "so_to_perf_1 = data[data['StockOptionLevel']<data.describe()['StockOptionLevel']['50%']]\n",
    "so_to_perf_2 = data[data['StockOptionLevel']>data.describe()['StockOptionLevel']['50%']]\n",
    "avg_so_to_perf_1 = so_to_perf_1['PerformanceRating'].mean()\n",
    "avg_so_to_perf_2 = so_to_perf_2['PerformanceRating'].mean()\n",
    "\n",
    "twy_to_perf_1 = data[data['TotalWorkingYears']<data.describe()['TotalWorkingYears']['50%']]\n",
    "twy_to_perf_2 = data[data['TotalWorkingYears']>data.describe()['TotalWorkingYears']['50%']]\n",
    "avg_twy_to_perf_1 = twy_to_perf_1['PerformanceRating'].mean()\n",
    "avg_twy_to_perf_2 = twy_to_perf_2['PerformanceRating'].mean()\n",
    "\n",
    "wlb_to_perf_1 = data[data['WorkLifeBalance']<data.describe()['WorkLifeBalance']['50%']]\n",
    "wlb_to_perf_2 = data[data['WorkLifeBalance']>data.describe()['WorkLifeBalance']['50%']]\n",
    "avg_wlb_to_perf_1 = wlb_to_perf_1['PerformanceRating'].mean()\n",
    "avg_wlb_to_perf_2 = wlb_to_perf_2['PerformanceRating'].mean()\n",
    "\n",
    "yac_to_perf_1 = data[data['YearsAtCompany']<data.describe()['YearsAtCompany']['50%']]\n",
    "yac_to_perf_2 = data[data['YearsAtCompany']>data.describe()['YearsAtCompany']['50%']]\n",
    "yac_edu_to_perf_1 = yac_to_perf_1['PerformanceRating'].mean()\n",
    "yac_edu_to_perf_2 = yac_to_perf_2['PerformanceRating'].mean()"
   ]
  },
  {
   "cell_type": "code",
   "execution_count": 96,
   "metadata": {},
   "outputs": [
    {
     "data": {
      "image/png": "[encoded data removed]",
      "text/plain": [
       "<Figure size 216x216 with 1 Axes>"
      ]
     },
     "metadata": {
      "needs_background": "light"
     },
     "output_type": "display_data"
    },
    {
     "data": {
      "image/png": "[encoded data removed]",
      "text/plain": [
       "<Figure size 216x216 with 1 Axes>"
      ]
     },
     "metadata": {
      "needs_background": "light"
     },
     "output_type": "display_data"
    }
   ],
   "source": [
    "fig = plt.subplots(figsize=(3,3))\n",
    "ax = sns.barplot(x=\"Attrition\", y=\"Age\", data=data)\n",
    "fig2 = plt.subplots(figsize=(3,3))\n",
    "ax2 = sns.barplot(x=\"PerformanceRating\", y=\"Age\", data=data)"
   ]
  },
  {
   "cell_type": "code",
   "execution_count": 97,
   "metadata": {},
   "outputs": [
    {
     "data": {
      "image/png": "[encoded data removed]",
      "text/plain": [
       "<Figure size 216x216 with 1 Axes>"
      ]
     },
     "metadata": {
      "needs_background": "light"
     },
     "output_type": "display_data"
    },
    {
     "data": {
      "image/png": "[encoded data removed]",
      "text/plain": [
       "<Figure size 216x216 with 1 Axes>"
      ]
     },
     "metadata": {
      "needs_background": "light"
     },
     "output_type": "display_data"
    }
   ],
   "source": [
    "fig = plt.subplots(figsize=(3,3))\n",
    "ax = sns.barplot(x=\"Attrition\", y=\"DistanceFromHome\", data=data)\n",
    "fig2 = plt.subplots(figsize=(3,3))\n",
    "ax2 = sns.barplot(x=\"PerformanceRating\", y=\"DistanceFromHome\", data=data)"
   ]
  },
  {
   "cell_type": "code",
   "execution_count": 98,
   "metadata": {},
   "outputs": [
    {
     "data": {
      "image/png": "[encoded data removed]",
      "text/plain": [
       "<Figure size 216x216 with 1 Axes>"
      ]
     },
     "metadata": {
      "needs_background": "light"
     },
     "output_type": "display_data"
    },
    {
     "data": {
      "image/png": "[encoded data removed]",
      "text/plain": [
       "<Figure size 216x216 with 1 Axes>"
      ]
     },
     "metadata": {
      "needs_background": "light"
     },
     "output_type": "display_data"
    }
   ],
   "source": [
    "fig = plt.subplots(figsize=(3,3))\n",
    "ax = sns.barplot(x=\"Attrition\", y=\"Education\", data=data)\n",
    "fig2 = plt.subplots(figsize=(3,3))\n",
    "ax2 = sns.barplot(x=\"PerformanceRating\", y=\"Education\", data=data)"
   ]
  },
  {
   "cell_type": "code",
   "execution_count": 99,
   "metadata": {},
   "outputs": [
    {
     "data": {
      "image/png": "[encoded data removed]",
      "text/plain": [
       "<Figure size 216x216 with 1 Axes>"
      ]
     },
     "metadata": {
      "needs_background": "light"
     },
     "output_type": "display_data"
    },
    {
     "data": {
      "image/png": "[encoded data removed]",
      "text/plain": [
       "<Figure size 216x216 with 1 Axes>"
      ]
     },
     "metadata": {
      "needs_background": "light"
     },
     "output_type": "display_data"
    }
   ],
   "source": [
    "fig = plt.subplots(figsize=(3,3))\n",
    "ax = sns.barplot(x=\"Attrition\", y=\"RelationshipSatisfaction\", data=data)\n",
    "fig2 = plt.subplots(figsize=(3,3))\n",
    "ax2 = sns.barplot(x=\"PerformanceRating\", y=\"RelationshipSatisfaction\", data=data)"
   ]
  },
  {
   "cell_type": "code",
   "execution_count": 100,
   "metadata": {},
   "outputs": [
    {
     "data": {
      "image/png": "[encoded data removed]",
      "text/plain": [
       "<Figure size 216x216 with 1 Axes>"
      ]
     },
     "metadata": {
      "needs_background": "light"
     },
     "output_type": "display_data"
    },
    {
     "data": {
      "image/png": "[encoded data removed]",
      "text/plain": [
       "<Figure size 216x216 with 1 Axes>"
      ]
     },
     "metadata": {
      "needs_background": "light"
     },
     "output_type": "display_data"
    }
   ],
   "source": [
    "fig = plt.subplots(figsize=(3,3))\n",
    "ax = sns.barplot(x=\"Attrition\", y=\"StockOptionLevel\", data=data)\n",
    "fig2 = plt.subplots(figsize=(3,3))\n",
    "ax2 = sns.barplot(x=\"PerformanceRating\", y=\"StockOptionLevel\", data=data)"
   ]
  },
  {
   "cell_type": "code",
   "execution_count": 101,
   "metadata": {},
   "outputs": [
    {
     "data": {
      "image/png": "[encoded data removed]",
      "text/plain": [
       "<Figure size 216x216 with 1 Axes>"
      ]
     },
     "metadata": {
      "needs_background": "light"
     },
     "output_type": "display_data"
    },
    {
     "data": {
      "image/png": "[encoded data removed]",
      "text/plain": [
       "<Figure size 216x216 with 1 Axes>"
      ]
     },
     "metadata": {
      "needs_background": "light"
     },
     "output_type": "display_data"
    }
   ],
   "source": [
    "fig = plt.subplots(figsize=(3,3))\n",
    "ax = sns.barplot(x=\"Attrition\", y=\"TotalWorkingYears\", data=data)\n",
    "fig2 = plt.subplots(figsize=(3,3))\n",
    "ax2 = sns.barplot(x=\"PerformanceRating\", y=\"TotalWorkingYears\", data=data)"
   ]
  },
  {
   "cell_type": "code",
   "execution_count": 102,
   "metadata": {},
   "outputs": [
    {
     "data": {
      "image/png": "[encoded data removed]",
      "text/plain": [
       "<Figure size 216x216 with 1 Axes>"
      ]
     },
     "metadata": {
      "needs_background": "light"
     },
     "output_type": "display_data"
    },
    {
     "data": {
      "image/png": "[encoded data removed]",
      "text/plain": [
       "<Figure size 216x216 with 1 Axes>"
      ]
     },
     "metadata": {
      "needs_background": "light"
     },
     "output_type": "display_data"
    }
   ],
   "source": [
    "fig = plt.subplots(figsize=(3,3))\n",
    "ax = sns.barplot(x=\"Attrition\", y=\"WorkLifeBalance\", data=data)\n",
    "fig2 = plt.subplots(figsize=(3,3))\n",
    "ax2 = sns.barplot(x=\"PerformanceRating\", y=\"WorkLifeBalance\", data=data)"
   ]
  },
  {
   "cell_type": "code",
   "execution_count": 103,
   "metadata": {},
   "outputs": [
    {
     "data": {
      "image/png": "[encoded data removed]",
      "text/plain": [
       "<Figure size 216x216 with 1 Axes>"
      ]
     },
     "metadata": {
      "needs_background": "light"
     },
     "output_type": "display_data"
    },
    {
     "data": {
      "image/png": "[encoded data removed]",
      "text/plain": [
       "<Figure size 216x216 with 1 Axes>"
      ]
     },
     "metadata": {
      "needs_background": "light"
     },
     "output_type": "display_data"
    }
   ],
   "source": [
    "fig = plt.subplots(figsize=(3,3))\n",
    "ax = sns.barplot(x=\"Attrition\", y=\"YearsAtCompany\", data=data)\n",
    "fig2 = plt.subplots(figsize=(3,3))\n",
    "ax2 = sns.barplot(x=\"PerformanceRating\", y=\"YearsAtCompany\", data=data)"
   ]
  },
  {
   "cell_type": "code",
   "execution_count": null,
   "metadata": {},
   "outputs": [],
   "source": []
  }
 ],
 "metadata": {
  "kernelspec": {
   "display_name": "Python 3",
   "language": "python",
   "name": "python3"
  },
  "language_info": {
   "codemirror_mode": {
    "name": "ipython",
    "version": 3
   },
   "file_extension": ".py",
   "mimetype": "text/x-python",
   "name": "python",
   "nbconvert_exporter": "python",
   "pygments_lexer": "ipython3",
   "version": "3.8.3"
  }
 },
 "nbformat": 4,
 "nbformat_minor": 4
}
